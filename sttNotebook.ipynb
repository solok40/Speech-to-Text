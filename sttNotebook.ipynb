{
 "cells": [
  {
   "cell_type": "code",
   "execution_count": 2,
   "metadata": {
    "execution": {
     "iopub.execute_input": "2021-11-01T11:52:06.119373Z",
     "iopub.status.busy": "2021-11-01T11:52:06.119062Z",
     "iopub.status.idle": "2021-11-01T11:52:08.875118Z",
     "shell.execute_reply": "2021-11-01T11:52:08.874068Z",
     "shell.execute_reply.started": "2021-11-01T11:52:06.119343Z"
    }
   },
   "outputs": [],
   "source": [
    "import os, warnings\n",
    "import numpy as np\n",
    "import matplotlib.pyplot as plt\n",
    "warnings.filterwarnings(\"ignore\")\n",
    "import torch\n",
    "import torch.nn as nn\n",
    "from torch.utils.data import DataLoader,random_split,Dataset\n",
    "import torchaudio\n",
    "from torchaudio import transforms\n",
    "from torch import Tensor\n",
    "from sklearn import preprocessing\n",
    "from tqdm import tqdm\n",
    "import torch.optim as optim\n",
    "import torch.nn.functional as F"
   ]
  },
  {
   "cell_type": "code",
   "execution_count": 9,
   "metadata": {
    "execution": {
     "iopub.execute_input": "2021-11-01T11:52:09.765368Z",
     "iopub.status.busy": "2021-11-01T11:52:09.764164Z",
     "iopub.status.idle": "2021-11-01T11:52:09.771320Z",
     "shell.execute_reply": "2021-11-01T11:52:09.768935Z",
     "shell.execute_reply.started": "2021-11-01T11:52:09.765315Z"
    }
   },
   "outputs": [],
   "source": [
    "segmendDataLength = 1200\n",
    "path = \"../input/dataset/splited\""
   ]
  },
  {
   "cell_type": "code",
   "execution_count": null,
   "metadata": {},
   "outputs": [],
   "source": []
  },
  {
   "cell_type": "code",
   "execution_count": 5,
   "metadata": {
    "execution": {
     "iopub.execute_input": "2021-11-01T06:54:12.271347Z",
     "iopub.status.busy": "2021-11-01T06:54:12.270545Z",
     "iopub.status.idle": "2021-11-01T06:54:12.526553Z",
     "shell.execute_reply": "2021-11-01T06:54:12.525788Z",
     "shell.execute_reply.started": "2021-11-01T06:54:12.271296Z"
    }
   },
   "outputs": [],
   "source": [
    "dirlbl1 = []\n",
    "segmentData = []\n",
    "for root, dirs, files in os.walk(path):\n",
    "    if files:\n",
    "        for pt in files:\n",
    "            data = torchaudio.load(os.path.join(str(root),str(pt)))\n",
    "            for k in range(0,len(data[0][0]),segmendDataLength):\n",
    "                if len(data[0][0][k:k+segmendDataLength]) == segmendDataLength:\n",
    "                    dat = (data[0][0][k:k+segmendDataLength]).view(1, segmendDataLength)\n",
    "                    segmentData.append(dat)\n",
    "                    dirlbl1.append(os.path.basename(os.path.dirname(os.path.join(str(root),str(pt)))))\n",
    "le = preprocessing.LabelEncoder()\n",
    "encodedLable1 = torch.tensor(le.fit_transform(dirlbl1))"
   ]
  },
  {
   "cell_type": "code",
   "execution_count": 6,
   "metadata": {
    "execution": {
     "iopub.execute_input": "2021-11-01T06:54:13.613940Z",
     "iopub.status.busy": "2021-11-01T06:54:13.613357Z",
     "iopub.status.idle": "2021-11-01T06:54:13.621657Z",
     "shell.execute_reply": "2021-11-01T06:54:13.620833Z",
     "shell.execute_reply.started": "2021-11-01T06:54:13.613899Z"
    }
   },
   "outputs": [],
   "source": [
    "segmentData[0].shape"
   ]
  },
  {
   "cell_type": "code",
   "execution_count": 7,
   "metadata": {
    "execution": {
     "iopub.execute_input": "2021-11-01T06:54:13.966580Z",
     "iopub.status.busy": "2021-11-01T06:54:13.965889Z",
     "iopub.status.idle": "2021-11-01T06:54:13.976865Z",
     "shell.execute_reply": "2021-11-01T06:54:13.975983Z",
     "shell.execute_reply.started": "2021-11-01T06:54:13.966543Z"
    }
   },
   "outputs": [],
   "source": [
    "import IPython.display as pl\n",
    "pl.Audio(segmentData[333][0],rate=48000)"
   ]
  },
  {
   "cell_type": "code",
   "execution_count": null,
   "metadata": {},
   "outputs": [],
   "source": []
  },
  {
   "cell_type": "code",
   "execution_count": 8,
   "metadata": {
    "execution": {
     "iopub.execute_input": "2021-11-01T06:54:14.941765Z",
     "iopub.status.busy": "2021-11-01T06:54:14.941227Z",
     "iopub.status.idle": "2021-11-01T06:54:14.948177Z",
     "shell.execute_reply": "2021-11-01T06:54:14.947275Z",
     "shell.execute_reply.started": "2021-11-01T06:54:14.941725Z"
    }
   },
   "outputs": [],
   "source": [
    "class dataSet1():\n",
    "    \n",
    "    def __init__(self, segmentData, dirlbl1):\n",
    "        self.segmentData = segmentData\n",
    "        self.lable1 = dirlbl1\n",
    "        \n",
    "    def __getitem__(self, index):\n",
    "        mel_specgram = transforms.MelSpectrogram(48000, hop_length=10)(self.segmentData[index][0]).view(1, 128,121)\n",
    "        return mel_specgram, self.lable1[index]\n",
    "    \n",
    "    def __len__(self):\n",
    "        return len(self.segmentData)"
   ]
  },
  {
   "cell_type": "code",
   "execution_count": null,
   "metadata": {},
   "outputs": [],
   "source": []
  },
  {
   "cell_type": "code",
   "execution_count": 9,
   "metadata": {
    "execution": {
     "iopub.execute_input": "2021-11-01T06:54:15.725202Z",
     "iopub.status.busy": "2021-11-01T06:54:15.724346Z",
     "iopub.status.idle": "2021-11-01T06:54:15.730820Z",
     "shell.execute_reply": "2021-11-01T06:54:15.730074Z",
     "shell.execute_reply.started": "2021-11-01T06:54:15.725149Z"
    }
   },
   "outputs": [],
   "source": [
    "train_loader1 = torch.utils.data.DataLoader(dataSet1(segmentData,encodedLable1), batch_size = 32, shuffle = True,)"
   ]
  },
  {
   "cell_type": "code",
   "execution_count": 10,
   "metadata": {
    "execution": {
     "iopub.execute_input": "2021-11-01T06:54:16.012996Z",
     "iopub.status.busy": "2021-11-01T06:54:16.012725Z",
     "iopub.status.idle": "2021-11-01T06:54:16.017024Z",
     "shell.execute_reply": "2021-11-01T06:54:16.016019Z",
     "shell.execute_reply.started": "2021-11-01T06:54:16.012959Z"
    }
   },
   "outputs": [],
   "source": [
    "splitedLengh1 = int(len(segmentData)*0.8)\n",
    "splitedLengh2 = len(segmentData) - splitedLengh1"
   ]
  },
  {
   "cell_type": "code",
   "execution_count": 13,
   "metadata": {
    "execution": {
     "iopub.execute_input": "2021-11-01T06:54:18.606218Z",
     "iopub.status.busy": "2021-11-01T06:54:18.605941Z",
     "iopub.status.idle": "2021-11-01T06:54:18.610841Z",
     "shell.execute_reply": "2021-11-01T06:54:18.610185Z",
     "shell.execute_reply.started": "2021-11-01T06:54:18.606177Z"
    }
   },
   "outputs": [],
   "source": []
  },
  {
   "cell_type": "code",
   "execution_count": 14,
   "metadata": {
    "execution": {
     "iopub.execute_input": "2021-11-01T06:54:18.925652Z",
     "iopub.status.busy": "2021-11-01T06:54:18.924939Z",
     "iopub.status.idle": "2021-11-01T06:54:18.932079Z",
     "shell.execute_reply": "2021-11-01T06:54:18.930313Z",
     "shell.execute_reply.started": "2021-11-01T06:54:18.925607Z"
    }
   },
   "outputs": [],
   "source": [
    "train_ds1, valid_ds1 = torch.utils.data.random_split(train_loader1.dataset, (splitedLengh1, splitedLengh2))"
   ]
  },
  {
   "cell_type": "code",
   "execution_count": null,
   "metadata": {},
   "outputs": [],
   "source": []
  },
  {
   "cell_type": "code",
   "execution_count": 4,
   "metadata": {
    "execution": {
     "iopub.execute_input": "2021-11-01T11:53:02.373323Z",
     "iopub.status.busy": "2021-11-01T11:53:02.373031Z",
     "iopub.status.idle": "2021-11-01T11:53:02.385808Z",
     "shell.execute_reply": "2021-11-01T11:53:02.384629Z",
     "shell.execute_reply.started": "2021-11-01T11:53:02.373294Z"
    }
   },
   "outputs": [],
   "source": [
    "class sttModel(nn.Module):\n",
    "    def __init__(self, num_class):\n",
    "        super(sttModel,self).__init__()\n",
    "        \n",
    "        self.conv1 = nn.Conv2d(in_channels=1,out_channels=8,kernel_size=3,stride=1)\n",
    "        self.dropout1 = nn.Dropout(0.3) \n",
    "    \n",
    "        self.conv2 = nn.Conv2d(in_channels=8,out_channels=16,kernel_size=3,stride=1)\n",
    "        self.dropout2 = nn.Dropout(0.3)\n",
    "        \n",
    "        #self.conv3 = nn.Conv2d(in_channels=16,out_channels=32,kernel_size=3,stride=1)\n",
    "        #self.dropout3 = nn.Dropout(0.3)\n",
    "        \n",
    "        #self.conv4 = nn.Conv2d(in_channels=32,out_channels=64,kernel_size=3,stride=1)\n",
    "        #self.dropout4 = nn.Dropout(0.3)\n",
    "        \n",
    "        self.fc1 = nn.Linear(16*12*13, 256)\n",
    "        self.dropout5 = nn.Dropout(0.3)\n",
    "        self.fc2 = nn.Linear(256,128)\n",
    "        self.dropout6 = nn.Dropout(0.3)\n",
    "        self.fc3 = nn.Linear(128, num_class)\n",
    "        \n",
    "    def forward(self, x):\n",
    "        \n",
    "        x = F.max_pool2d(F.relu(self.conv1(x)),kernel_size=3)\n",
    "        x = self.dropout1(x)\n",
    "        x = F.max_pool2d(F.relu(self.conv2(x)),kernel_size=3)\n",
    "        x = self.dropout2(x)\n",
    "        #x = F.max_pool2d(F.relu(self.conv3(x)),kernel_size=3)\n",
    "        #x = self.dropout3(x)\n",
    "        \n",
    "        #x = F.max_pool2d(F.relu(self.conv4(x)),kernel_size=3)\n",
    "        #x = self.dropout4(x)\n",
    "        \n",
    "        #print(x.shape)\n",
    "        x = F.relu(self.fc1(x.reshape(-1,x.shape[1] * x.shape[2]*x.shape[3])))\n",
    "        x = self.dropout5(x)\n",
    "        \n",
    "        x = F.relu(self.fc2(x))\n",
    "        x = self.dropout6(x)\n",
    "        \n",
    "        x = self.fc3(x)\n",
    "        \n",
    "        #print(x.shape)\n",
    "        return x "
   ]
  },
  {
   "cell_type": "code",
   "execution_count": 12,
   "metadata": {
    "execution": {
     "iopub.execute_input": "2021-11-01T11:53:18.419470Z",
     "iopub.status.busy": "2021-11-01T11:53:18.419087Z",
     "iopub.status.idle": "2021-11-01T11:53:18.444437Z",
     "shell.execute_reply": "2021-11-01T11:53:18.443547Z",
     "shell.execute_reply.started": "2021-11-01T11:53:18.419438Z"
    }
   },
   "outputs": [],
   "source": [
    "train_audio_transforms = nn.Sequential(torchaudio.transforms.MelSpectrogram())\n",
    "net = sttModel(num_class=5)\n"
   ]
  },
  {
   "cell_type": "code",
   "execution_count": null,
   "metadata": {},
   "outputs": [],
   "source": []
  },
  {
   "cell_type": "code",
   "execution_count": 18,
   "metadata": {
    "execution": {
     "iopub.execute_input": "2021-11-01T06:54:24.173363Z",
     "iopub.status.busy": "2021-11-01T06:54:24.172887Z",
     "iopub.status.idle": "2021-11-01T06:54:24.177913Z",
     "shell.execute_reply": "2021-11-01T06:54:24.177086Z",
     "shell.execute_reply.started": "2021-11-01T06:54:24.173325Z"
    }
   },
   "outputs": [],
   "source": [
    "trainloader = torch.utils.data.DataLoader(train_ds1, batch_size=32, shuffle=True)\n",
    "\n",
    "testloader = torch.utils.data.DataLoader(valid_ds1, batch_size=32, shuffle=True)"
   ]
  },
  {
   "cell_type": "code",
   "execution_count": null,
   "metadata": {},
   "outputs": [],
   "source": []
  },
  {
   "cell_type": "code",
   "execution_count": 13,
   "metadata": {
    "execution": {
     "iopub.execute_input": "2021-11-01T11:53:20.929846Z",
     "iopub.status.busy": "2021-11-01T11:53:20.929585Z",
     "iopub.status.idle": "2021-11-01T11:53:20.948939Z",
     "shell.execute_reply": "2021-11-01T11:53:20.947977Z",
     "shell.execute_reply.started": "2021-11-01T11:53:20.929817Z"
    },
    "scrolled": true
   },
   "outputs": [],
   "source": [
    "best_acc=0\n",
    "\n",
    "def train(net,trainloader,optim,scheduler,criterion,epoch,device):\n",
    "    print(\"Training\")\n",
    "    net.train()\n",
    "    train_loss = 0\n",
    "    total = 0\n",
    "    total_correct = 0\n",
    "    \n",
    "    iterator = tqdm(trainloader)\n",
    "    \n",
    "    for inputs,targets in iterator:\n",
    "        \n",
    "        inputs,targets = inputs.to(device), targets.to(device)\n",
    "        \n",
    "        optim.zero_grad()\n",
    "        outputs = net(inputs)\n",
    "        loss = criterion(outputs,targets)\n",
    "        loss.backward()\n",
    "        optim.step()\n",
    "        #scheduler.step()\n",
    "        \n",
    "        train_loss += loss.item()\n",
    "        _,predicted = torch.max(outputs.data,1)\n",
    "        total_correct += (predicted == targets).sum().item()\n",
    "        total += targets.size(0)\n",
    "    \n",
    "    print(\"Epoch: [{}]  loss: [{:.2f}] Accuracy [{:.2f}] \".format(epoch+1,train_loss/len(trainloader),\n",
    "                                                                           total_correct*100/total))\n",
    "    \n",
    "def test(net,testloader,optim,criterion,epoch,device,results_txt,model_name):\n",
    "    global best_acc\n",
    "    print(\"validation\")\n",
    "    net.eval()\n",
    "    test_loss,total,total_correct = 0,0,0\n",
    "    \n",
    "    iterator = tqdm(testloader)\n",
    "    \n",
    "    for inputs, targets in iterator:\n",
    "        inputs, targets = inputs.to(device), targets.to(device)\n",
    "        outputs = net(inputs)\n",
    "        loss = criterion(outputs, targets)\n",
    "\n",
    "        test_loss += loss.item()\n",
    "        _, predicted = torch.max(outputs.data, 1)\n",
    "        total += targets.size(0)\n",
    "        total_correct += (predicted == targets).sum().item()\n",
    "\n",
    "    # Save checkpoint when best model\n",
    "    acc = 100. * total_correct / total\n",
    "    print(\"\\nValidation Epoch #%d\\t\\t\\tLoss: %.4f Acc@1: %.2f%%\" %(epoch+1, test_loss/len(testloader), acc))\n",
    "\n",
    "    f = open(results_txt+\".txt\",\"a+\")\n",
    "    f.write(\"Validation Epoch #%d\\t\\t\\tLoss: %.4f Acc@1: %.2f%% \\n\" %(epoch+1, test_loss/len(testloader), acc))\n",
    "    f.close() \n",
    "        \n",
    "    \n",
    "    if acc > best_acc:\n",
    "        if isinstance(net, torch.nn.DataParallel):\n",
    "            print(\"multiple GPU\")\n",
    "            print('Saving Best model...\\t\\t\\tTop1 = %.2f%%' %(acc))\n",
    "            state = {\n",
    "                'model':net.module.state_dict(),\n",
    "                'model1': net.state_dict(),\n",
    "                'model2': net,\n",
    "                'acc':acc,\n",
    "                'epoch':epoch,\n",
    "            }\n",
    "        \n",
    "        else:\n",
    "            print(\"not multiple GPU\")\n",
    "            state = {\n",
    "                    'model':net,\n",
    "                    'acc':acc,\n",
    "                    'epoch':epoch,\n",
    "                    }      \n",
    "            \n",
    "        if not os.path.isdir('checkpoint'):\n",
    "            os.mkdir('checkpoint')\n",
    "        save_point = './checkpoint/'\n",
    "        if not os.path.isdir(save_point):\n",
    "            os.mkdir(save_point)\n",
    "        torch.save(state, save_point+model_name+'.t7')\n",
    "        best_acc = acc\n",
    "        \n",
    "    return best_acc"
   ]
  },
  {
   "cell_type": "code",
   "execution_count": null,
   "metadata": {},
   "outputs": [],
   "source": []
  },
  {
   "cell_type": "code",
   "execution_count": 14,
   "metadata": {
    "execution": {
     "iopub.execute_input": "2021-11-01T11:53:23.349411Z",
     "iopub.status.busy": "2021-11-01T11:53:23.348799Z",
     "iopub.status.idle": "2021-11-01T11:53:26.773625Z",
     "shell.execute_reply": "2021-11-01T11:53:26.772708Z",
     "shell.execute_reply.started": "2021-11-01T11:53:23.349339Z"
    }
   },
   "outputs": [],
   "source": [
    "num_epochs=100\n",
    "device = torch.device('cuda' if torch.cuda.is_available() else 'cpu')\n",
    "\n",
    "net = net.to(device)\n",
    "\n",
    "criterion = nn.CrossEntropyLoss()\n",
    "optimizer = torch.optim.Adam(net.parameters(),lr=0.001)\n",
    "scheduler = torch.optim.lr_scheduler.OneCycleLR(optimizer, max_lr=0.001,\n",
    "                                              steps_per_epoch=20,\n",
    "                                              epochs=num_epochs,\n",
    "                                              anneal_strategy='linear') \n"
   ]
  },
  {
   "cell_type": "code",
   "execution_count": 21,
   "metadata": {
    "execution": {
     "iopub.execute_input": "2021-11-01T06:54:32.574290Z",
     "iopub.status.busy": "2021-11-01T06:54:32.573966Z",
     "iopub.status.idle": "2021-11-01T07:18:15.759594Z",
     "shell.execute_reply": "2021-11-01T07:18:15.758812Z",
     "shell.execute_reply.started": "2021-11-01T06:54:32.574257Z"
    },
    "scrolled": true
   },
   "outputs": [],
   "source": [
    "for epoch in range(0, num_epochs):\n",
    "    \n",
    "    train(net,trainloader,optimizer,scheduler,criterion,epoch,device)\n",
    "    best_acc = test(net,testloader,optimizer,criterion,epoch,device,\"result\",\"model\")"
   ]
  },
  {
   "cell_type": "code",
   "execution_count": null,
   "metadata": {},
   "outputs": [],
   "source": []
  },
  {
   "cell_type": "code",
   "execution_count": null,
   "metadata": {},
   "outputs": [],
   "source": [
    "torch.save(net,\"model.pth\")"
   ]
  },
  {
   "cell_type": "code",
   "execution_count": 7,
   "metadata": {
    "execution": {
     "iopub.execute_input": "2021-11-01T11:54:15.749307Z",
     "iopub.status.busy": "2021-11-01T11:54:15.748937Z",
     "iopub.status.idle": "2021-11-01T11:54:15.754145Z",
     "shell.execute_reply": "2021-11-01T11:54:15.752772Z",
     "shell.execute_reply.started": "2021-11-01T11:54:15.749248Z"
    }
   },
   "outputs": [],
   "source": [
    "net = torch.load(\"model.pth\",map_location=torch.device('cpu'))\n",
    "testPth = \"C:\\\\Users\\\\k40\\\\Desktop\\\\thesis\\\\AudioData\\\\test data\\\\abebe.wav\""
   ]
  },
  {
   "cell_type": "code",
   "execution_count": null,
   "metadata": {},
   "outputs": [],
   "source": []
  },
  {
   "cell_type": "code",
   "execution_count": 10,
   "metadata": {
    "execution": {
     "iopub.execute_input": "2021-11-01T11:52:44.739005Z",
     "iopub.status.busy": "2021-11-01T11:52:44.738436Z",
     "iopub.status.idle": "2021-11-01T11:52:44.805692Z",
     "shell.execute_reply": "2021-11-01T11:52:44.804810Z",
     "shell.execute_reply.started": "2021-11-01T11:52:44.738972Z"
    }
   },
   "outputs": [],
   "source": [
    "TestSegmentData = []\n",
    "\n",
    "data = torchaudio.load(testPth)\n",
    "for k in range(0,len(data[0][0]),segmendDataLength):\n",
    "    if len(data[0][0][k:k+segmendDataLength]) == segmendDataLength:\n",
    "        dat = (data[0][0][k:k+segmendDataLength]).view(1, segmendDataLength)\n",
    "        TestSegmentData.append(dat)"
   ]
  },
  {
   "cell_type": "code",
   "execution_count": null,
   "metadata": {},
   "outputs": [],
   "source": []
  },
  {
   "cell_type": "code",
   "execution_count": null,
   "metadata": {},
   "outputs": [],
   "source": []
  },
  {
   "cell_type": "code",
   "execution_count": 11,
   "metadata": {
    "execution": {
     "iopub.execute_input": "2021-11-01T11:52:50.897773Z",
     "iopub.status.busy": "2021-11-01T11:52:50.897307Z",
     "iopub.status.idle": "2021-11-01T11:52:51.649031Z",
     "shell.execute_reply": "2021-11-01T11:52:51.648025Z",
     "shell.execute_reply.started": "2021-11-01T11:52:50.897735Z"
    }
   },
   "outputs": [],
   "source": [
    "testedData = []\n",
    "for i in TestSegmentData:\n",
    "    mel_specgram = transforms.MelSpectrogram(48000, hop_length=10)(i[0]).view(1,1, 128,121)\n",
    "    testedData.append(mel_specgram)"
   ]
  },
  {
   "cell_type": "code",
   "execution_count": null,
   "metadata": {},
   "outputs": [],
   "source": []
  },
  {
   "cell_type": "code",
   "execution_count": 16,
   "metadata": {
    "execution": {
     "iopub.execute_input": "2021-11-01T11:53:30.585205Z",
     "iopub.status.busy": "2021-11-01T11:53:30.584901Z",
     "iopub.status.idle": "2021-11-01T11:53:37.418701Z",
     "shell.execute_reply": "2021-11-01T11:53:37.417702Z",
     "shell.execute_reply.started": "2021-11-01T11:53:30.585177Z"
    }
   },
   "outputs": [],
   "source": [
    "out = []\n",
    "lables = []\n",
    "for inputs in testedData:\n",
    "    device = torch.device('cuda' if torch.cuda.is_available() else 'cpu')\n",
    "    inputs = inputs.to(device)\n",
    "    #lables.append(targets)\n",
    "    outputs = net(inputs)\n",
    "    _, predicted = torch.max(outputs.data, 1)\n",
    "    out.append(predicted[0].tolist())"
   ]
  },
  {
   "cell_type": "code",
   "execution_count": 17,
   "metadata": {},
   "outputs": [],
   "source": [
    "from collections import Counter\n",
    "key = list(Counter(out).keys())\n",
    "uniqueValue = list(Counter(out).values())"
   ]
  },
  {
   "cell_type": "code",
   "execution_count": 19,
   "metadata": {},
   "outputs": [
    {
     "data": {
      "text/plain": [
       "[0, 1, 3, 2]"
      ]
     },
     "execution_count": 19,
     "metadata": {},
     "output_type": "execute_result"
    }
   ],
   "source": [
    "key"
   ]
  },
  {
   "cell_type": "code",
   "execution_count": 20,
   "metadata": {},
   "outputs": [
    {
     "data": {
      "text/plain": [
       "[19, 55, 21, 11]"
      ]
     },
     "execution_count": 20,
     "metadata": {},
     "output_type": "execute_result"
    }
   ],
   "source": [
    "uniqueValue"
   ]
  },
  {
   "cell_type": "code",
   "execution_count": null,
   "metadata": {},
   "outputs": [],
   "source": []
  }
 ],
 "metadata": {
  "kernelspec": {
   "display_name": "Python 3",
   "language": "python",
   "name": "python3"
  },
  "language_info": {
   "codemirror_mode": {
    "name": "ipython",
    "version": 3
   },
   "file_extension": ".py",
   "mimetype": "text/x-python",
   "name": "python",
   "nbconvert_exporter": "python",
   "pygments_lexer": "ipython3",
   "version": "3.8.5"
  }
 },
 "nbformat": 4,
 "nbformat_minor": 4
}
